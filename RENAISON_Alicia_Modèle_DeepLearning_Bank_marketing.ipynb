{
  "nbformat": 4,
  "nbformat_minor": 0,
  "metadata": {
    "colab": {
      "provenance": [],
      "include_colab_link": true
    },
    "kernelspec": {
      "name": "python3",
      "display_name": "Python 3"
    },
    "language_info": {
      "name": "python"
    }
  },
  "cells": [
    {
      "cell_type": "markdown",
      "metadata": {
        "id": "view-in-github",
        "colab_type": "text"
      },
      "source": [
        "<a href=\"https://colab.research.google.com/github/Lily-R26/Exercice-detection-de-Badbuzz/blob/main/RENAISON_Alicia_Mod%C3%A8le_DeepLearning_Bank_marketing.ipynb\" target=\"_parent\"><img src=\"https://colab.research.google.com/assets/colab-badge.svg\" alt=\"Open In Colab\"/></a>"
      ]
    },
    {
      "cell_type": "markdown",
      "source": [
        "----\n",
        "### Exercice 1 : Entrainement d'un MLP sur le jeu de données `Bank marketing`\n",
        "\n",
        "Créez un nouveau notebook intitulé `Modèle DeepLearning - Bank marketing` puis répondez aux questions suivantes. Chaque partie doit être séparée par un titre de niveau 2 et doit être accompagnée d'un commentaire expliquant votre démarche."
      ],
      "metadata": {
        "id": "W-VIuHDTC6bt"
      }
    },
    {
      "cell_type": "markdown",
      "source": [
        "1. Complétez le code suivant en renseignant le chemin vers le jeu de données `Bank marketing` puis exécutez le code afin d'obtenir les variables d'entrainement et de test."
      ],
      "metadata": {
        "id": "ouWqMzwnDwGO"
      }
    },
    {
      "cell_type": "markdown",
      "source": [
        "#COMMENTAIRES - 1\n",
        "Tout d'abord nous importons les bibliothèques nécessaires.\n",
        "Ensuite on initialise une fonction qui affiche un graphique à partir des données \"d'Accuraty\".\n",
        "\n",
        "\n",
        "On importe ensuite, le jeu de données \"train.csv\" et on place dans deux variables X et y les features utiles.\n",
        "\n",
        "Ce code utilise LabelEncoder de la bibliothèque scikit-learn pour transformer les données catégorielles en valeurs numériques. Cela permet une version numérique de chaque colonne catégorielle en remplaçant chaque catégorie par un entier unique.\n",
        "\n",
        "\n",
        "Pour terminer, nous appelons StandardScaler de la bibliothèque scikit-learn pour remplacer les valeurs de X par les valeurs traitées. Et ensuite faire la préparation pour l'entraînement."
      ],
      "metadata": {
        "id": "atAOrWe_Fo2j"
      }
    },
    {
      "cell_type": "code",
      "source": [
        "import pandas as pd\n",
        "import matplotlib.pyplot as plt\n",
        "\n",
        "from sklearn.model_selection import train_test_split\n",
        "from sklearn.preprocessing import StandardScaler\n",
        "from sklearn.preprocessing import LabelEncoder\n",
        "\n",
        "\n",
        "def plot_history(history):\n",
        "    plt.plot(history.history['accuracy'])\n",
        "    plt.plot(history.history['val_accuracy'])\n",
        "    plt.title('Accuracy')\n",
        "    plt.ylabel('Accuracy')\n",
        "    plt.xlabel('Epoch')\n",
        "    plt.legend(['train', 'val'], loc='upper left')\n",
        "    plt.show()\n",
        "\n",
        "\n",
        "file_path = 'train.csv'\n",
        "\n",
        "# Import du jeu de données\n",
        "df = pd.read_csv(file_path)\n",
        "\n",
        "X = df.drop(['ID', 'contact', 'month', 'day', 'y'], axis=1)\n",
        "y = df['y']\n",
        "\n",
        "# Encodage des variables catégorielles\n",
        "le = LabelEncoder()\n",
        "X['job'] = le.fit_transform(X['job'])\n",
        "X['marital'] = le.fit_transform(X['marital'])\n",
        "X['education'] = le.fit_transform(X['education'])\n",
        "X['default'] = le.fit_transform(X['default'])\n",
        "X['housing'] = le.fit_transform(X['housing'])\n",
        "X['loan'] = le.fit_transform(X['loan'])\n",
        "X['poutcome'] = le.fit_transform(X['poutcome'])\n",
        "\n",
        "y = le.fit_transform(y)\n",
        "\n",
        "# Normalisation des données\n",
        "sc = StandardScaler()\n",
        "X = sc.fit_transform(X)\n",
        "\n",
        "# Séparer les données en train et test\n",
        "X_train, X_test, y_train, y_test = train_test_split(X, y, test_size=0.2, random_state=42)"
      ],
      "metadata": {
        "id": "dnHOfTdAGIBM"
      },
      "execution_count": null,
      "outputs": []
    },
    {
      "cell_type": "markdown",
      "source": [
        "2. Créez un réseau de neuronnes profond avec 3 couches cachées de 10 neurones chacune et une couche de sortie de 1 neurone. Utilisez la fonction d'activation `relu` pour les couches cachées et `sigmoid` pour la couche de sortie. "
      ],
      "metadata": {
        "id": "BaTegvH5DwJh"
      }
    },
    {
      "cell_type": "markdown",
      "source": [
        "#COMMENTAIRES - 2\n",
        "\n",
        "Ce code définit une classe 'MultiLayerPerceptron' qui est un modèle de réseau de neurones à trois couches cachées de 10 neurones chacune et une couche de sortie de 1 neurone. La fonction d'activation \"relu\" est utilisée pour les couches cachées et \"sigmoid\" pour la couche de sortie. Les paramètres d'entrée sont la dimension de la couche d'entrée et la dimension de la couche de sortie.\n",
        "\n"
      ],
      "metadata": {
        "id": "WhYKNByjFsxk"
      }
    },
    {
      "cell_type": "markdown",
      "source": [
        "3. Compilez le modèle en utilisant l'optimiseur `adam` et la fonction de perte `binary_crossentropy`."
      ],
      "metadata": {
        "id": "2z4E4MNfDwLl"
      }
    },
    {
      "cell_type": "markdown",
      "source": [
        "#COMMENTAIRES - 3\n",
        "\n",
        "Nous avons modifié dans les ligne de code \"model.compil\", les valeurs \"d'optimizer\" en \"adam\" et de \"loss\" en \"binary_crossentropy\"."
      ],
      "metadata": {
        "id": "GtTiJ_F2F7kf"
      }
    },
    {
      "cell_type": "code",
      "source": [
        "#EXERCICES 2 & 3\n",
        "\n",
        "import tensorflow as tf\n",
        "\n",
        "class MultiLayerPerceptron:\n",
        "    def __init__(self, input_dim, output_dim):\n",
        "\n",
        "        # On crée un modèle séquentiel\n",
        "        self.model = tf.keras.models.Sequential() \n",
        "\n",
        "        # Première couche cachée de 10 neurones\n",
        "        self.model.add(tf.keras.layers.Dense(10, input_dim=input_dim, activation='relu'))\n",
        "\n",
        "        # Deuxième couche cachée de 10 neurones\n",
        "        self.model.add(tf.keras.layers.Dense(10, activation='relu'))\n",
        "\n",
        "        # Troisième couche cachée de 10 neurones\n",
        "        self.model.add(tf.keras.layers.Dense(10, activation='relu'))\n",
        "\n",
        "        self.model.add(tf.keras.layers.Dense(output_dim, activation='sigmoid'))\n",
        "\n",
        "    \n",
        "model = MultiLayerPerceptron(12, 1).model\n",
        "\n",
        "\n",
        "model.compile(optimizer='adam', loss='binary_crossentropy', metrics=['accuracy'])\n",
        "model.summary()"
      ],
      "metadata": {
        "id": "oevcVakvLlG7",
        "colab": {
          "base_uri": "https://localhost:8080/"
        },
        "outputId": "900935b1-b433-4a75-a071-191db2cc3827"
      },
      "execution_count": null,
      "outputs": [
        {
          "output_type": "stream",
          "name": "stdout",
          "text": [
            "Model: \"sequential_7\"\n",
            "_________________________________________________________________\n",
            " Layer (type)                Output Shape              Param #   \n",
            "=================================================================\n",
            " dense_24 (Dense)            (None, 10)                130       \n",
            "                                                                 \n",
            " dense_25 (Dense)            (None, 10)                110       \n",
            "                                                                 \n",
            " dense_26 (Dense)            (None, 10)                110       \n",
            "                                                                 \n",
            " dense_27 (Dense)            (None, 1)                 11        \n",
            "                                                                 \n",
            "=================================================================\n",
            "Total params: 361\n",
            "Trainable params: 361\n",
            "Non-trainable params: 0\n",
            "_________________________________________________________________\n"
          ]
        }
      ]
    },
    {
      "cell_type": "markdown",
      "source": [
        "4. Entraînez le modèle en utilisant 10 epochs et une taille de batch de 32 et stockez l'historique de l'entraînement dans la variable `history`.  \n",
        "\n",
        "Utilisez la méthode fit du modèle : `fit(X_train, y_train, validation_data=(X_test, y_test),\n",
        "          epochs=5, batch_size=10, verbose=1)`"
      ],
      "metadata": {
        "id": "xuwg7x_KDwPE"
      }
    },
    {
      "cell_type": "markdown",
      "source": [
        "#COMMENTAIRES - 4\n",
        "\n",
        "Nous effectuons l'entraînement du modèle 10 fois (epoch=10) avec 32 exemples (batch_size=32)."
      ],
      "metadata": {
        "id": "37sLzGsVUAP_"
      }
    },
    {
      "cell_type": "code",
      "source": [
        "# Entrainement du modèle\n",
        "\n",
        "history = model.fit(X_train, y_train, validation_data=(X_test, y_test),epochs=10, batch_size=32, verbose=1)"
      ],
      "metadata": {
        "colab": {
          "base_uri": "https://localhost:8080/"
        },
        "id": "0isbsgj4R8ms",
        "outputId": "0d6bfbd8-1b7c-47c4-94ce-24ea9231842a"
      },
      "execution_count": null,
      "outputs": [
        {
          "output_type": "stream",
          "name": "stdout",
          "text": [
            "Epoch 1/10\n",
            "322/322 [==============================] - 2s 3ms/step - loss: 0.6237 - accuracy: 0.6571 - val_loss: 0.5708 - val_accuracy: 0.7044\n",
            "Epoch 2/10\n",
            "322/322 [==============================] - 1s 3ms/step - loss: 0.5773 - accuracy: 0.6948 - val_loss: 0.5572 - val_accuracy: 0.7234\n",
            "Epoch 3/10\n",
            "322/322 [==============================] - 1s 2ms/step - loss: 0.5650 - accuracy: 0.7212 - val_loss: 0.5504 - val_accuracy: 0.7389\n",
            "Epoch 4/10\n",
            "322/322 [==============================] - 1s 2ms/step - loss: 0.5561 - accuracy: 0.7339 - val_loss: 0.5442 - val_accuracy: 0.7490\n",
            "Epoch 5/10\n",
            "322/322 [==============================] - 1s 2ms/step - loss: 0.5508 - accuracy: 0.7389 - val_loss: 0.5408 - val_accuracy: 0.7498\n",
            "Epoch 6/10\n",
            "322/322 [==============================] - 1s 2ms/step - loss: 0.5462 - accuracy: 0.7401 - val_loss: 0.5369 - val_accuracy: 0.7498\n",
            "Epoch 7/10\n",
            "322/322 [==============================] - 1s 3ms/step - loss: 0.5430 - accuracy: 0.7414 - val_loss: 0.5366 - val_accuracy: 0.7541\n",
            "Epoch 8/10\n",
            "322/322 [==============================] - 1s 3ms/step - loss: 0.5401 - accuracy: 0.7442 - val_loss: 0.5350 - val_accuracy: 0.7564\n",
            "Epoch 9/10\n",
            "322/322 [==============================] - 1s 3ms/step - loss: 0.5388 - accuracy: 0.7474 - val_loss: 0.5293 - val_accuracy: 0.7580\n",
            "Epoch 10/10\n",
            "322/322 [==============================] - 1s 2ms/step - loss: 0.5370 - accuracy: 0.7483 - val_loss: 0.5279 - val_accuracy: 0.7580\n"
          ]
        }
      ]
    },
    {
      "cell_type": "markdown",
      "source": [
        "5. Affichez l'historique de l'entraînement en utilisant la fonction `plot_history`."
      ],
      "metadata": {
        "id": "_yZdoMdiDwqw"
      }
    },
    {
      "cell_type": "markdown",
      "source": [
        "#COMMENTAIRES - 5\n",
        "\n",
        "Nous obtenons ci-dessous les résultats concernant les données du modèle original, ainsi que ceux appliqués au df que nous avons renommé plus tôt 'history'."
      ],
      "metadata": {
        "id": "AVqtw7LZUFtx"
      }
    },
    {
      "cell_type": "code",
      "source": [
        "history.history"
      ],
      "metadata": {
        "colab": {
          "base_uri": "https://localhost:8080/"
        },
        "id": "mDH1V0NuWR8x",
        "outputId": "8695d9e9-39ac-42c1-aeef-2e05f62a6d94"
      },
      "execution_count": null,
      "outputs": [
        {
          "output_type": "execute_result",
          "data": {
            "text/plain": [
              "{'loss': [0.6237297654151917,\n",
              "  0.5773335695266724,\n",
              "  0.5650153160095215,\n",
              "  0.5561286807060242,\n",
              "  0.5507826805114746,\n",
              "  0.546210527420044,\n",
              "  0.5430489182472229,\n",
              "  0.540121853351593,\n",
              "  0.5387908816337585,\n",
              "  0.5370327234268188],\n",
              " 'accuracy': [0.6570512652397156,\n",
              "  0.6948329210281372,\n",
              "  0.7211538553237915,\n",
              "  0.7338772416114807,\n",
              "  0.7389277219772339,\n",
              "  0.7400932312011719,\n",
              "  0.7413558959960938,\n",
              "  0.7441725134849548,\n",
              "  0.7473776340484619,\n",
              "  0.7483488917350769],\n",
              " 'val_loss': [0.5708498358726501,\n",
              "  0.5571913719177246,\n",
              "  0.5504076480865479,\n",
              "  0.5441877245903015,\n",
              "  0.5407683253288269,\n",
              "  0.5369134545326233,\n",
              "  0.5365521907806396,\n",
              "  0.5350209474563599,\n",
              "  0.5293100476264954,\n",
              "  0.5279040932655334],\n",
              " 'val_accuracy': [0.7043511867523193,\n",
              "  0.7233877182006836,\n",
              "  0.7389277219772339,\n",
              "  0.749028742313385,\n",
              "  0.749805748462677,\n",
              "  0.749805748462677,\n",
              "  0.754079282283783,\n",
              "  0.7564102411270142,\n",
              "  0.7579642534255981,\n",
              "  0.7579642534255981]}"
            ]
          },
          "metadata": {},
          "execution_count": 43
        }
      ]
    },
    {
      "cell_type": "code",
      "source": [
        "plot_history(history)"
      ],
      "metadata": {
        "colab": {
          "base_uri": "https://localhost:8080/",
          "height": 472
        },
        "id": "5e9e9dHDVVZ_",
        "outputId": "46061f50-ccac-4246-8709-331d9babcf23"
      },
      "execution_count": null,
      "outputs": [
        {
          "output_type": "display_data",
          "data": {
            "text/plain": [
              "<Figure size 640x480 with 1 Axes>"
            ],
            "image/png": "[encoded data removed]"
          },
          "metadata": {}
        }
      ]
    },
    {
      "cell_type": "markdown",
      "source": [
        "6. Obtenez les prédictions du modèle sur les données de test avec la méthode `predict` et calculez l'accuracy du modèle avec la fonction `accuracy_score` de la librairie `sklearn.metrics`. Utilisez une liste compréhension pour convertir les prédictions en 0 ou 1 avec un seuil de 0.5."
      ],
      "metadata": {
        "id": "SG1OIqY0ERit"
      }
    },
    {
      "cell_type": "markdown",
      "source": [
        "#COMMENTAIRES - 6\n",
        "\n",
        "On utilise la méthode predict pour pouvoir obtenir la valeur de l'accuracy converti en 0 et 1, grâce à la fonction accuracy_score de la bibliothèque sklearn.metrics."
      ],
      "metadata": {
        "id": "84eB1N8YULQT"
      }
    },
    {
      "cell_type": "code",
      "source": [
        "from sklearn.metrics import accuracy_score\n",
        "\n",
        "# Obtention des prédictions du modèle sur les données de test\n",
        "y_pred = (model.predict(X_test) > 0.5).astype(int)\n",
        "\n",
        "# Calcul de l'accuracy du modèle\n",
        "accuracy = accuracy_score(y_test, y_pred)\n",
        "\n",
        "# Affichage de l'accuracy\n",
        "print(\"Accuracy du modèle : {:.2%}\".format(accuracy))\n"
      ],
      "metadata": {
        "colab": {
          "base_uri": "https://localhost:8080/"
        },
        "id": "cXCIRr5zYvUR",
        "outputId": "1a528ec7-5ebb-4a04-9031-98460368895e"
      },
      "execution_count": null,
      "outputs": [
        {
          "output_type": "stream",
          "name": "stdout",
          "text": [
            "81/81 [==============================] - 0s 2ms/step\n",
            "Accuracy du modèle : 75.80%\n"
          ]
        }
      ]
    },
    {
      "cell_type": "markdown",
      "source": [
        "7. Affichez les poids du modèle avec l'attribut `get_weights` du modèle. Comment est-ce que les poids sont stockés ?"
      ],
      "metadata": {
        "id": "iHNoOgpxERe3"
      }
    },
    {
      "cell_type": "markdown",
      "source": [
        "#COMMENTAIRES - 7\n",
        "\n",
        "Les poids sont stockés sous forme de liste. La longueur de cette dernière est égale à 8 neuronnes (sans l'entrée ni la sortie). \n",
        "L'entrée est composée des features.\n",
        "En totalité, les 10 couches sont composées de deux parties chacunes ; les \"weights\" et les \"biais\".\n",
        "A chaque couche, les neuronnes sont appliqués aux prochains, sous la forme d'un \"arbre\", jusqu'à arriver au résultat (la sortie).\n",
        "\n"
      ],
      "metadata": {
        "id": "r8YUNUVEUMhi"
      }
    },
    {
      "cell_type": "code",
      "source": [
        "len(model.get_weights())"
      ],
      "metadata": {
        "colab": {
          "base_uri": "https://localhost:8080/"
        },
        "id": "XVYxtfr1fTy7",
        "outputId": "ebac7d92-3a25-40b5-8fbb-520dfcc5ceb7"
      },
      "execution_count": null,
      "outputs": [
        {
          "output_type": "execute_result",
          "data": {
            "text/plain": [
              "8"
            ]
          },
          "metadata": {},
          "execution_count": 46
        }
      ]
    },
    {
      "cell_type": "code",
      "source": [
        "weights = model.get_weights()\n",
        "print(weights)"
      ],
      "metadata": {
        "colab": {
          "base_uri": "https://localhost:8080/"
        },
        "id": "3X43BKPyb_hz",
        "outputId": "a579dc2a-a298-4695-f942-16993d12376a"
      },
      "execution_count": null,
      "outputs": [
        {
          "output_type": "stream",
          "name": "stdout",
          "text": [
            "[array([[ 0.12977146,  0.10837849,  0.1471956 , -0.06356867, -0.47540078,\n",
            "        -0.05357413,  0.5271011 , -0.8395877 ,  0.08060801,  0.7833597 ],\n",
            "       [ 0.15629454, -0.16375689,  0.23034786,  0.13595444, -0.27593613,\n",
            "        -0.50765514, -0.5275276 , -0.16730207, -0.5238075 , -0.19529992],\n",
            "       [ 0.10799973,  0.11630517, -0.14971349,  0.11581119,  0.53582853,\n",
            "         0.11271881, -0.05044276,  0.55485916, -0.28530398,  0.11354236],\n",
            "       [-0.13788782,  0.4024542 , -0.45957336,  0.06386692,  0.07831421,\n",
            "         0.21774498, -0.12307113,  0.11367537,  0.3050488 , -0.05167351],\n",
            "       [-0.6499804 , -0.49372748,  0.14291407,  0.19969879,  0.02806553,\n",
            "        -0.08949059, -0.16942261,  0.11933741,  0.6994698 ,  0.42996126],\n",
            "       [-0.5715261 , -0.07586382, -0.28990144,  0.12029689,  0.06081631,\n",
            "        -0.28700122, -0.21490616, -0.139648  , -0.08158585, -0.05784628],\n",
            "       [ 0.39299902, -0.46578562,  0.14556658, -0.15163286, -0.02918336,\n",
            "        -0.10026401,  0.5292974 , -0.5800798 ,  0.07001691, -0.31776753],\n",
            "       [ 0.46420756, -0.17194092, -0.19432393, -0.08845018,  0.47590595,\n",
            "         0.13566367, -0.12603487, -0.17979296,  0.28797185, -0.35674676],\n",
            "       [-0.30286554, -0.32126462,  0.4949981 ,  0.2064039 , -0.1013861 ,\n",
            "         0.32036522,  0.47323197,  0.24334997,  0.34508687, -0.02298626],\n",
            "       [-0.565439  ,  0.14480436, -0.5451699 , -0.13064007,  0.11793067,\n",
            "        -0.8127973 ,  0.22602773, -0.21032842,  0.03117217,  0.5466137 ],\n",
            "       [-0.6061464 ,  0.32506487, -0.6292685 , -0.49791628, -0.11335488,\n",
            "        -0.04350844,  0.15797172,  0.26648808,  0.73959976,  0.01057534],\n",
            "       [ 0.14960091,  0.47502458,  0.7188766 ,  0.6651853 ,  0.11929948,\n",
            "         0.8401603 , -0.6351163 , -0.09717346,  0.15957625,  0.36176586]],\n",
            "      dtype=float32), array([ 0.28193295,  0.1337659 ,  0.21871753,  0.19511163, -0.12839228,\n",
            "        0.29086792,  0.08615215,  0.0875884 ,  0.12332094,  0.06054341],\n",
            "      dtype=float32), array([[-0.27432054, -0.39626595,  0.0357513 ,  0.32958534,  0.6452335 ,\n",
            "         0.49367568,  0.12507413,  0.4888617 , -0.49296156,  0.40553132],\n",
            "       [-0.15762351,  0.3085481 ,  0.25532404, -0.18888485, -0.09220734,\n",
            "         0.0795674 ,  0.60317   , -0.12991288, -0.06196109,  0.39380005],\n",
            "       [-0.27673617,  0.34289402,  0.18358584,  0.16681027,  0.0850509 ,\n",
            "        -0.03789284, -0.4070669 ,  0.1448396 , -0.02211475, -0.08679261],\n",
            "       [ 0.18047531, -0.13019644,  0.40319058,  0.13158147,  0.5835524 ,\n",
            "         0.46620822, -0.3313473 ,  0.38368604,  0.15864502,  0.46105647],\n",
            "       [-0.4279578 , -0.31753394,  0.26053062, -0.33818242, -0.13929723,\n",
            "         0.43474305, -0.10023745, -0.33551416,  0.19150087,  0.2344872 ],\n",
            "       [-0.15118885,  0.3175879 ,  0.5906904 ,  0.21196109,  0.03399229,\n",
            "        -0.23424447, -0.17884395,  0.06243414, -0.3766451 , -0.5603756 ],\n",
            "       [-0.19863965,  0.02701351,  0.42082772, -0.4868841 , -0.3644712 ,\n",
            "        -0.2427165 , -0.19019318,  0.5691195 , -0.3008995 , -0.74020004],\n",
            "       [ 0.36091176, -0.01471355, -0.36927524, -0.22798505,  0.18978536,\n",
            "        -0.22560306, -0.11516872,  0.06713399, -0.5004523 ,  0.37409624],\n",
            "       [ 0.30065098, -0.32082537, -0.5279649 ,  0.15296046,  0.7173298 ,\n",
            "         0.15610692, -0.06518521, -0.25889465, -0.41183862, -0.03174799],\n",
            "       [ 0.18424484, -0.21027856, -0.37867033,  0.15884793, -0.3043471 ,\n",
            "         0.6705433 ,  0.47699708,  0.4987534 ,  0.48458612,  0.13998516]],\n",
            "      dtype=float32), array([ 0.25023833, -0.10248183,  0.14791057,  0.07010089,  0.04081615,\n",
            "        0.06794661,  0.26221636,  0.06296135,  0.0258863 ,  0.02707048],\n",
            "      dtype=float32), array([[ 0.33400556,  0.17570972,  0.31090388, -0.03264901,  0.15836   ,\n",
            "        -0.32138026, -0.37447435, -0.07434381,  0.10517981,  0.43118662],\n",
            "       [ 0.10337195,  0.08346175,  0.01571584, -0.19490844, -0.5078021 ,\n",
            "         0.3579374 , -0.374759  , -0.31628338, -0.14685363, -0.20893803],\n",
            "       [-0.25644955, -0.08956018,  0.05327997, -0.10868981,  0.07020711,\n",
            "         0.21914168, -0.12796079, -0.51557094,  0.67873675, -0.21903259],\n",
            "       [ 0.42166755, -0.00883233,  0.3434043 ,  0.15502214,  0.22266679,\n",
            "        -0.23329957, -0.5071126 , -0.21393521,  0.5943682 , -0.33808646],\n",
            "       [ 0.33145484, -0.48650345, -0.51068413, -0.11977175, -0.149946  ,\n",
            "        -0.20400953, -0.2169016 , -0.4243201 , -0.01054554, -0.02962535],\n",
            "       [ 0.03823603,  0.20598806,  0.2873364 , -0.29788497, -0.45562422,\n",
            "        -0.08066399, -0.3851723 ,  0.45992085,  0.1696757 , -0.65046495],\n",
            "       [ 0.23636287,  0.25511247,  0.03190408,  0.20999208,  0.17762367,\n",
            "         0.02947465, -0.6039592 ,  0.6267447 ,  0.1374836 ,  0.34907192],\n",
            "       [ 0.65753365,  0.24158303, -0.562856  , -0.49349746, -0.56233627,\n",
            "        -0.300823  ,  0.32452732,  0.40193346,  0.56647235, -0.23951465],\n",
            "       [-0.20679633,  0.08850419, -0.26728556, -0.09074134, -0.3645334 ,\n",
            "         0.14313872,  0.17412828,  0.24382733,  0.18400112,  0.2469711 ],\n",
            "       [ 0.21767226,  0.13741486,  0.01310787,  0.5653397 ,  0.5988743 ,\n",
            "         0.29418632,  0.00988116, -0.5393127 , -0.40361658,  0.49054387]],\n",
            "      dtype=float32), array([ 0.02536634, -0.06348347, -0.03715158,  0.12384766,  0.08573339,\n",
            "       -0.00064278,  0.0896683 ,  0.07983257,  0.08200574,  0.21140456],\n",
            "      dtype=float32), array([[-0.08411975],\n",
            "       [ 0.6088048 ],\n",
            "       [ 0.21983437],\n",
            "       [ 0.20374055],\n",
            "       [ 0.81640637],\n",
            "       [-0.08850042],\n",
            "       [-0.6837364 ],\n",
            "       [ 0.8451378 ],\n",
            "       [-0.6836306 ],\n",
            "       [ 0.4033824 ]], dtype=float32), array([-0.02700451], dtype=float32)]\n"
          ]
        }
      ]
    },
    {
      "cell_type": "markdown",
      "source": [
        "8. Changez les hyperparamètres du modèle et observez l'impact sur l'accuracy du modèle.\n",
        "- fonction d'activation, \n",
        "- nombre de couches, \n",
        "- nombre de neurones, \n",
        "- optimiseur, \n",
        "- fonction de perte, \n",
        "- nombre d'epochs, \n",
        "- taille de batch\n",
        "\n",
        "Au moins 3 configurations différentes doivent être testées.\n",
        "Quel est le meilleur modèle que vous avez obtenu ? "
      ],
      "metadata": {
        "id": "O9BsNDhQERcK"
      }
    },
    {
      "cell_type": "markdown",
      "source": [
        "#COMMENTAIRES - 8\n",
        "\n",
        "1 - Changement du nombre de neurones, l'accuracy a chuté de 16% environ, au départ il était de 76,61%.\n",
        "\n",
        "2 - Changement de l'optimiseur, l'accuracy a chuté de 14% environ par rapport à celui de départ.\n",
        "\n",
        "3 - Changement du nombre de couches, l'accuracy a chute de 48% environ par rapport à celui de départ.\n",
        "\n",
        "En conclusion, plus on augmente le nombre de couche plus l'accuracy baisse(surrentraînement du modèle). Adagrad est moins performant que l'optimiseur Adam."
      ],
      "metadata": {
        "id": "H0OKz4wfUOTG"
      }
    },
    {
      "cell_type": "code",
      "source": [
        "#Nombre de neurones\n",
        "\n",
        "import tensorflow as tf\n",
        "\n",
        "class MultiLayerPerceptron:\n",
        "    def __init__(self, input_dim, output_dim):\n",
        "\n",
        "        # On crée un modèle séquentiel\n",
        "        self.model = tf.keras.models.Sequential() \n",
        "\n",
        "        # Première couche cachée de 26 neurones\n",
        "        self.model.add(tf.keras.layers.Dense(26, input_dim=input_dim, activation='relu'))\n",
        "\n",
        "        # Deuxième couche cachée de 26 neurones\n",
        "        self.model.add(tf.keras.layers.Dense(26, activation='relu'))\n",
        "\n",
        "        # Troisième couche cachée de 26 neurones\n",
        "        self.model.add(tf.keras.layers.Dense(26, activation='relu'))\n",
        "\n",
        "        self.model.add(tf.keras.layers.Dense(output_dim, activation='sigmoid'))\n",
        "\n",
        "    \n",
        "model_1 = MultiLayerPerceptron(12, 1).model\n",
        "\n",
        "\n",
        "model_1.compile(optimizer='adam', loss='binary_crossentropy', metrics=['accuracy'])\n",
        "model_1.summary()\n",
        "\n",
        "\n",
        "y_pred_1 = (model_1.predict(X_test) > 0.5).astype(int)\n",
        "accuracy = accuracy_score(y_test, y_pred_1)\n",
        "print(\"Accuracy du modèle : {:.2%}\".format(accuracy))\n"
      ],
      "metadata": {
        "id": "xyIN4siEhh8j",
        "colab": {
          "base_uri": "https://localhost:8080/"
        },
        "outputId": "f7dbcc68-1232-49b8-e763-4b54e8ecfb3e"
      },
      "execution_count": null,
      "outputs": [
        {
          "output_type": "stream",
          "name": "stdout",
          "text": [
            "Model: \"sequential_8\"\n",
            "_________________________________________________________________\n",
            " Layer (type)                Output Shape              Param #   \n",
            "=================================================================\n",
            " dense_28 (Dense)            (None, 26)                338       \n",
            "                                                                 \n",
            " dense_29 (Dense)            (None, 26)                702       \n",
            "                                                                 \n",
            " dense_30 (Dense)            (None, 26)                702       \n",
            "                                                                 \n",
            " dense_31 (Dense)            (None, 1)                 27        \n",
            "                                                                 \n",
            "=================================================================\n",
            "Total params: 1,769\n",
            "Trainable params: 1,769\n",
            "Non-trainable params: 0\n",
            "_________________________________________________________________\n",
            "81/81 [==============================] - 0s 1ms/step\n",
            "Accuracy du modèle : 32.17%\n"
          ]
        }
      ]
    },
    {
      "cell_type": "code",
      "source": [
        "#Optimiseur\n",
        "\n",
        "import tensorflow as tf\n",
        "\n",
        "class MultiLayerPerceptron:\n",
        "    def __init__(self, input_dim, output_dim):\n",
        "\n",
        "        # On crée un modèle séquentiel\n",
        "        self.model = tf.keras.models.Sequential() \n",
        "\n",
        "        # Première couche cachée de 10 neurones\n",
        "        self.model.add(tf.keras.layers.Dense(10, input_dim=input_dim, activation='relu'))\n",
        "\n",
        "        # Deuxième couche cachée de 10 neurones\n",
        "        self.model.add(tf.keras.layers.Dense(10, activation='relu'))\n",
        "\n",
        "        # Troisième couche cachée de 10 neurones\n",
        "        self.model.add(tf.keras.layers.Dense(10, activation='relu'))\n",
        "\n",
        "        self.model.add(tf.keras.layers.Dense(output_dim, activation='sigmoid'))\n",
        "\n",
        "    \n",
        "model_2 = MultiLayerPerceptron(12, 1).model\n",
        "\n",
        "\n",
        "model_2.compile(optimizer='adagrad', loss='binary_crossentropy', metrics=['accuracy'])\n",
        "model_2.summary()\n",
        "\n",
        "y_pred_2 = (model_2.predict(X_test) > 0.5).astype(int)\n",
        "accuracy = accuracy_score(y_test, y_pred_2)\n",
        "print(\"Accuracy du modèle : {:.2%}\".format(accuracy))"
      ],
      "metadata": {
        "id": "jP8rnGhrhlkW",
        "colab": {
          "base_uri": "https://localhost:8080/"
        },
        "outputId": "888c68bc-3cde-4654-e338-e1bb6e1b6140"
      },
      "execution_count": null,
      "outputs": [
        {
          "output_type": "stream",
          "name": "stdout",
          "text": [
            "Model: \"sequential_9\"\n",
            "_________________________________________________________________\n",
            " Layer (type)                Output Shape              Param #   \n",
            "=================================================================\n",
            " dense_32 (Dense)            (None, 10)                130       \n",
            "                                                                 \n",
            " dense_33 (Dense)            (None, 10)                110       \n",
            "                                                                 \n",
            " dense_34 (Dense)            (None, 10)                110       \n",
            "                                                                 \n",
            " dense_35 (Dense)            (None, 1)                 11        \n",
            "                                                                 \n",
            "=================================================================\n",
            "Total params: 361\n",
            "Trainable params: 361\n",
            "Non-trainable params: 0\n",
            "_________________________________________________________________\n",
            "81/81 [==============================] - 0s 1ms/step\n",
            "Accuracy du modèle : 53.42%\n"
          ]
        }
      ]
    },
    {
      "cell_type": "code",
      "source": [
        "#Nombre de couches\n",
        "\n",
        "import tensorflow as tf\n",
        "\n",
        "class MultiLayerPerceptron:\n",
        "    def __init__(self, input_dim, output_dim):\n",
        "\n",
        "        # On crée un modèle séquentiel\n",
        "        self.model = tf.keras.models.Sequential() \n",
        "\n",
        "        # Première couche cachée de 10 neurones\n",
        "        self.model.add(tf.keras.layers.Dense(10, input_dim=input_dim, activation='relu'))\n",
        "\n",
        "        # Deuxième couche cachée de 10 neurones\n",
        "        self.model.add(tf.keras.layers.Dense(10, activation='relu'))\n",
        "\n",
        "        # Troisième couche cachée de 10 neurones\n",
        "        self.model.add(tf.keras.layers.Dense(10, activation='relu'))\n",
        "\n",
        "         # Quatrième couche cachée de 10 neurones\n",
        "        self.model.add(tf.keras.layers.Dense(10, activation='relu'))\n",
        "\n",
        "         # Cinquième couche cachée de 10 neurones\n",
        "        self.model.add(tf.keras.layers.Dense(10, activation='relu'))\n",
        "\n",
        "        self.model.add(tf.keras.layers.Dense(output_dim, activation='sigmoid'))\n",
        "\n",
        "    \n",
        "model_3 = MultiLayerPerceptron(12, 1).model\n",
        "\n",
        "\n",
        "model_3.compile(optimizer='adam', loss='binary_crossentropy', metrics=['accuracy'])\n",
        "model_3.summary()\n",
        "\n",
        "y_pred_3 = (model_3.predict(X_test) > 0.5).astype(int)\n",
        "accuracy = accuracy_score(y_test, y_pred_3)\n",
        "print(\"Accuracy du modèle : {:.2%}\".format(accuracy))"
      ],
      "metadata": {
        "id": "RwBaJoiThlVU",
        "colab": {
          "base_uri": "https://localhost:8080/"
        },
        "outputId": "ee422754-2542-4ed4-d30e-127863af13c4"
      },
      "execution_count": null,
      "outputs": [
        {
          "output_type": "stream",
          "name": "stdout",
          "text": [
            "Model: \"sequential_10\"\n",
            "_________________________________________________________________\n",
            " Layer (type)                Output Shape              Param #   \n",
            "=================================================================\n",
            " dense_36 (Dense)            (None, 10)                130       \n",
            "                                                                 \n",
            " dense_37 (Dense)            (None, 10)                110       \n",
            "                                                                 \n",
            " dense_38 (Dense)            (None, 10)                110       \n",
            "                                                                 \n",
            " dense_39 (Dense)            (None, 10)                110       \n",
            "                                                                 \n",
            " dense_40 (Dense)            (None, 10)                110       \n",
            "                                                                 \n",
            " dense_41 (Dense)            (None, 1)                 11        \n",
            "                                                                 \n",
            "=================================================================\n",
            "Total params: 581\n",
            "Trainable params: 581\n",
            "Non-trainable params: 0\n",
            "_________________________________________________________________\n",
            "81/81 [==============================] - 0s 1ms/step\n",
            "Accuracy du modèle : 65.23%\n"
          ]
        }
      ]
    },
    {
      "cell_type": "markdown",
      "source": [
        "9. Sauvegardez le modèle en utilisant la méthode `save` du modèle. Chargez le modèle en utilisant la méthode `load_model` de la librairie `tensorflow.keras.models`."
      ],
      "metadata": {
        "id": "nbywLQ1qERZk"
      }
    },
    {
      "cell_type": "code",
      "source": [
        "model_1.save('model_1')"
      ],
      "metadata": {
        "colab": {
          "base_uri": "https://localhost:8080/"
        },
        "id": "7I-qTfdFptpG",
        "outputId": "4b38b415-1d62-43bd-e78f-6acf4e526464"
      },
      "execution_count": null,
      "outputs": [
        {
          "output_type": "stream",
          "name": "stderr",
          "text": [
            "WARNING:absl:Found untraced functions such as _update_step_xla while saving (showing 1 of 1). These functions will not be directly callable after loading.\n"
          ]
        }
      ]
    },
    {
      "cell_type": "code",
      "source": [
        "model__1 = load_model('model_1')"
      ],
      "metadata": {
        "id": "a5YL6cl9p1oJ"
      },
      "execution_count": null,
      "outputs": []
    },
    {
      "cell_type": "code",
      "source": [
        "model__1.predict(X_test)"
      ],
      "metadata": {
        "colab": {
          "base_uri": "https://localhost:8080/"
        },
        "id": "67c0vu9Ap8gO",
        "outputId": "2ab1ecc4-27a7-402f-f441-161bc0803097"
      },
      "execution_count": null,
      "outputs": [
        {
          "output_type": "stream",
          "name": "stdout",
          "text": [
            "81/81 [==============================] - 0s 1ms/step\n"
          ]
        },
        {
          "output_type": "execute_result",
          "data": {
            "text/plain": [
              "array([[0.5725295 ],\n",
              "       [0.52606374],\n",
              "       [0.6207896 ],\n",
              "       ...,\n",
              "       [0.4725686 ],\n",
              "       [0.55849177],\n",
              "       [0.5011364 ]], dtype=float32)"
            ]
          },
          "metadata": {},
          "execution_count": 53
        }
      ]
    },
    {
      "cell_type": "code",
      "source": [
        "model.save('Model')\n",
        "model= load_model('Model')\n",
        "model.predict(X_test)"
      ],
      "metadata": {
        "colab": {
          "base_uri": "https://localhost:8080/"
        },
        "id": "nA-zyuHJqLUU",
        "outputId": "a577a327-bab2-4a02-cc54-4834544aa83b"
      },
      "execution_count": null,
      "outputs": [
        {
          "output_type": "stream",
          "name": "stderr",
          "text": [
            "WARNING:absl:Found untraced functions such as _update_step_xla while saving (showing 1 of 1). These functions will not be directly callable after loading.\n"
          ]
        },
        {
          "output_type": "stream",
          "name": "stdout",
          "text": [
            "81/81 [==============================] - 0s 1ms/step\n"
          ]
        },
        {
          "output_type": "execute_result",
          "data": {
            "text/plain": [
              "array([[0.15783587],\n",
              "       [0.7544691 ],\n",
              "       [0.7956704 ],\n",
              "       ...,\n",
              "       [0.66922814],\n",
              "       [0.19328482],\n",
              "       [0.3546401 ]], dtype=float32)"
            ]
          },
          "metadata": {},
          "execution_count": 54
        }
      ]
    },
    {
      "cell_type": "markdown",
      "source": [
        "#COMMENTAIRES - 9"
      ],
      "metadata": {
        "id": "5iitIDyDUPsG"
      }
    },
    {
      "cell_type": "code",
      "source": [],
      "metadata": {
        "id": "95Ko8TwGlATu"
      },
      "execution_count": null,
      "outputs": []
    },
    {
      "cell_type": "markdown",
      "source": [
        "10. Publiez votre projet sur GitHub et placez le lien dans dans le fichier [suivant](https://docs.google.com/spreadsheets/d/1mnS5XL4pJNmQNclndP2LZPCELOi1OmBKoW3803xyK8c/edit?usp=sharing)."
      ],
      "metadata": {
        "id": "_thhKnXTEq35"
      }
    },
    {
      "cell_type": "markdown",
      "source": [
        "**Bonus :** Déposez le `Tp 6 : Introduction au Deep Learning` dans votre dossier Github avec vos noms et prénoms dans le nom du fichier."
      ],
      "metadata": {
        "id": "MJyQwNmfEwmj"
      }
    }
  ]
}